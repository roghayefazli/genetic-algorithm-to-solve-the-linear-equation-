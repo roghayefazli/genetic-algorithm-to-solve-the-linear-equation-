{
 "cells": [
  {
   "cell_type": "code",
   "execution_count": 1,
   "id": "72262946",
   "metadata": {},
   "outputs": [],
   "source": [
    "import random"
   ]
  },
  {
   "cell_type": "code",
   "execution_count": 2,
   "id": "049e36a1",
   "metadata": {},
   "outputs": [],
   "source": [
    "# تعریف تابع هدف\n",
    "def fitness_function(a, b, c, d):\n",
    "    return abs(a + 2*b + 3*c + 4*d - 30)"
   ]
  },
  {
   "cell_type": "code",
   "execution_count": 3,
   "id": "4f7e77bd",
   "metadata": {},
   "outputs": [],
   "source": [
    "# تعریف تابع برای ایجاد جمعیت اولیه\n",
    "def create_population(population_size):\n",
    "    population = []\n",
    "    for _ in range(population_size):\n",
    "        individual = [random.uniform(-10, 10) for _ in range(4)]  # تولید یک فرد با مقادیر تصادفی\n",
    "        population.append(individual)\n",
    "    return population"
   ]
  },
  {
   "cell_type": "code",
   "execution_count": 4,
   "id": "b38cf355",
   "metadata": {},
   "outputs": [],
   "source": [
    "# تعریف تابع برای انتخاب والدین\n",
    "def select_parents(population):\n",
    "    parents = random.sample(population, 2)  # انتخاب دو فرد به عنوان والدین\n",
    "    return parents"
   ]
  },
  {
   "cell_type": "code",
   "execution_count": 5,
   "id": "885b40f5",
   "metadata": {},
   "outputs": [],
   "source": [
    "# تعریف تابع برای تولید فرزندان\n",
    "def crossover(parents):\n",
    "    child = []\n",
    "    crossover_point = random.randint(1, 3)  # نقطه تقاطع تصادفی\n",
    "    child.extend(parents[0][:crossover_point])\n",
    "    child.extend(parents[1][crossover_point:])\n",
    "    return child"
   ]
  },
  {
   "cell_type": "code",
   "execution_count": 6,
   "id": "bae17d2d",
   "metadata": {},
   "outputs": [],
   "source": [
    "\n",
    "# تعریف تابع برای جهش فرزند\n",
    "def mutate(child):\n",
    "    mutation_rate = 0.1\n",
    "    for i in range(len(child)):\n",
    "        if random.random() < mutation_rate:\n",
    "            child[i] = random.uniform(-10, 10)  # تولید مقدار جدید برای جهش\n",
    "    return child"
   ]
  },
  {
   "cell_type": "code",
   "execution_count": 7,
   "id": "f548e5b1",
   "metadata": {},
   "outputs": [
    {
     "name": "stdout",
     "output_type": "stream",
     "text": [
      "a: 8.162590271367371 ,\t b: -6.449592570410774 ,\t c: 9.731799295516868 ,\t d:1.4124747660849941\n"
     ]
    }
   ],
   "source": [
    "# پارامترهای الگوریتم\n",
    "population_size = 100\n",
    "generations = 100\n",
    "\n",
    "# ایجاد جمعیت اولیه\n",
    "population = create_population(population_size)\n",
    "\n",
    "for _ in range(generations):\n",
    "    # محاسبه امتیاز فیتنس برای هر فرد\n",
    "    fitness_scores = [fitness_function(individual[0], individual[1], individual[2], individual[3]) for individual in population]\n",
    "\n",
    "    # انتخاب والدین و تولید فرزندان جدید\n",
    "    new_population = []\n",
    "    for _ in range(population_size):\n",
    "        parents = select_parents(population)\n",
    "        child = crossover(parents)\n",
    "        child = mutate(child)\n",
    "        new_population.append(child)\n",
    "\n",
    "    population = new_population\n",
    "\n",
    "# پیدا کردن بهترین فرد\n",
    "best_individual = min(population, key=lambda x: fitness_function(x[0], x[1], x[2], x[3]))\n",
    "a, b, c, d = best_individual\n",
    "print(f\"a: {a} ,\\t b: {b} ,\\t c: {c} ,\\t d:{d}\")"
   ]
  },
  {
   "cell_type": "code",
   "execution_count": null,
   "id": "cc3d1add",
   "metadata": {},
   "outputs": [],
   "source": []
  }
 ],
 "metadata": {
  "kernelspec": {
   "display_name": "Python 3 (ipykernel)",
   "language": "python",
   "name": "python3"
  },
  "language_info": {
   "codemirror_mode": {
    "name": "ipython",
    "version": 3
   },
   "file_extension": ".py",
   "mimetype": "text/x-python",
   "name": "python",
   "nbconvert_exporter": "python",
   "pygments_lexer": "ipython3",
   "version": "3.10.12"
  }
 },
 "nbformat": 4,
 "nbformat_minor": 5
}
